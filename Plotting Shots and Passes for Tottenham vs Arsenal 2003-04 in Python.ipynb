{
 "cells": [
  {
   "cell_type": "markdown",
   "metadata": {},
   "source": [
    "## Plotting Shots and Passes for Tottenham 2-2 Arsenal (Season 2003/04)"
   ]
  },
  {
   "cell_type": "code",
   "execution_count": 8,
   "metadata": {},
   "outputs": [
    {
     "data": {
      "text/plain": [
       "(33, 32)"
      ]
     },
     "execution_count": 8,
     "metadata": {},
     "output_type": "execute_result"
    }
   ],
   "source": [
    "import matplotlib.pyplot as plt\n",
    "import numpy as np\n",
    "\n",
    "#Load the list of matches for Premier League 2013/14\n",
    "\n",
    "import json\n",
    "\n",
    "with open('44.json') as f:\n",
    "    data = json.load(f)\n",
    "    \n",
    "from pandas.io.json import json_normalize\n",
    "df = json_normalize(data, sep = \"_\")\n",
    "\n",
    "df.shape"
   ]
  },
  {
   "cell_type": "code",
   "execution_count": 2,
   "metadata": {},
   "outputs": [
    {
     "data": {
      "text/html": [
       "<div>\n",
       "<style scoped>\n",
       "    .dataframe tbody tr th:only-of-type {\n",
       "        vertical-align: middle;\n",
       "    }\n",
       "\n",
       "    .dataframe tbody tr th {\n",
       "        vertical-align: top;\n",
       "    }\n",
       "\n",
       "    .dataframe thead th {\n",
       "        text-align: right;\n",
       "    }\n",
       "</style>\n",
       "<table border=\"1\" class=\"dataframe\">\n",
       "  <thead>\n",
       "    <tr style=\"text-align: right;\">\n",
       "      <th></th>\n",
       "      <th>home_team_home_team_name</th>\n",
       "      <th>away_team_away_team_name</th>\n",
       "      <th>match_id</th>\n",
       "    </tr>\n",
       "  </thead>\n",
       "  <tbody>\n",
       "    <tr>\n",
       "      <td>0</td>\n",
       "      <td>Arsenal</td>\n",
       "      <td>Manchester United</td>\n",
       "      <td>3749246</td>\n",
       "    </tr>\n",
       "    <tr>\n",
       "      <td>1</td>\n",
       "      <td>Arsenal</td>\n",
       "      <td>Leicester City</td>\n",
       "      <td>3749257</td>\n",
       "    </tr>\n",
       "    <tr>\n",
       "      <td>2</td>\n",
       "      <td>Arsenal</td>\n",
       "      <td>Middlesbrough</td>\n",
       "      <td>3749153</td>\n",
       "    </tr>\n",
       "    <tr>\n",
       "      <td>3</td>\n",
       "      <td>Arsenal</td>\n",
       "      <td>Charlton Athletic</td>\n",
       "      <td>3749642</td>\n",
       "    </tr>\n",
       "    <tr>\n",
       "      <td>4</td>\n",
       "      <td>Middlesbrough</td>\n",
       "      <td>Arsenal</td>\n",
       "      <td>3749358</td>\n",
       "    </tr>\n",
       "  </tbody>\n",
       "</table>\n",
       "</div>"
      ],
      "text/plain": [
       "  home_team_home_team_name away_team_away_team_name  match_id\n",
       "0                  Arsenal        Manchester United   3749246\n",
       "1                  Arsenal           Leicester City   3749257\n",
       "2                  Arsenal            Middlesbrough   3749153\n",
       "3                  Arsenal        Charlton Athletic   3749642\n",
       "4            Middlesbrough                  Arsenal   3749358"
      ]
     },
     "execution_count": 2,
     "metadata": {},
     "output_type": "execute_result"
    }
   ],
   "source": [
    "df[['home_team_home_team_name', 'away_team_away_team_name', 'match_id']].head()"
   ]
  },
  {
   "cell_type": "code",
   "execution_count": 3,
   "metadata": {},
   "outputs": [
    {
     "data": {
      "text/plain": [
       "18    3749068\n",
       "Name: match_id, dtype: int64"
      ]
     },
     "execution_count": 3,
     "metadata": {},
     "output_type": "execute_result"
    }
   ],
   "source": [
    "#Find ID for the match\n",
    "\n",
    "first = df[df['home_team_home_team_name'] == 'Tottenham Hotspur'].copy()\n",
    "second = first[first['away_team_away_team_name'] == 'Arsenal'].copy()\n",
    "\n",
    "second['match_id']"
   ]
  },
  {
   "cell_type": "markdown",
   "metadata": {},
   "source": [
    "## Ploting shot map"
   ]
  },
  {
   "cell_type": "code",
   "execution_count": 4,
   "metadata": {},
   "outputs": [
    {
     "data": {
      "text/plain": [
       "(3156, 124)"
      ]
     },
     "execution_count": 4,
     "metadata": {},
     "output_type": "execute_result"
    }
   ],
   "source": [
    "import json\n",
    "\n",
    "with open('3749068.json', encoding=\"utf8\") as ev: \n",
    "    event_data = json.load(ev)\n",
    "    \n",
    "from pandas.io.json import json_normalize\n",
    "df_events = json_normalize(event_data, sep = \"_\")\n",
    "\n",
    "df_events.shape"
   ]
  },
  {
   "cell_type": "code",
   "execution_count": 5,
   "metadata": {},
   "outputs": [
    {
     "data": {
      "text/plain": [
       "(23, 123)"
      ]
     },
     "execution_count": 5,
     "metadata": {},
     "output_type": "execute_result"
    }
   ],
   "source": [
    "#Filtering only the shots from the events dataframe\n",
    "shots = df_events.loc[df_events['type_name'] == 'Shot'].set_index('id')\n",
    "shots.shape"
   ]
  },
  {
   "cell_type": "code",
   "execution_count": 21,
   "metadata": {},
   "outputs": [
    {
     "data": {
      "text/html": [
       "<div>\n",
       "<style scoped>\n",
       "    .dataframe tbody tr th:only-of-type {\n",
       "        vertical-align: middle;\n",
       "    }\n",
       "\n",
       "    .dataframe tbody tr th {\n",
       "        vertical-align: top;\n",
       "    }\n",
       "\n",
       "    .dataframe thead th {\n",
       "        text-align: right;\n",
       "    }\n",
       "</style>\n",
       "<table border=\"1\" class=\"dataframe\">\n",
       "  <thead>\n",
       "    <tr style=\"text-align: right;\">\n",
       "      <th></th>\n",
       "      <th>player_name</th>\n",
       "      <th>team_name</th>\n",
       "      <th>location</th>\n",
       "      <th>shot_outcome_name</th>\n",
       "    </tr>\n",
       "    <tr>\n",
       "      <th>id</th>\n",
       "      <th></th>\n",
       "      <th></th>\n",
       "      <th></th>\n",
       "      <th></th>\n",
       "    </tr>\n",
       "  </thead>\n",
       "  <tbody>\n",
       "    <tr>\n",
       "      <td>d5fa0f1f-ec1c-4e42-aa37-e7d4f826c25f</td>\n",
       "      <td>Patrick Vieira</td>\n",
       "      <td>Arsenal</td>\n",
       "      <td>[111.3, 39.7]</td>\n",
       "      <td>Goal</td>\n",
       "    </tr>\n",
       "    <tr>\n",
       "      <td>7d9d8237-bbf6-4eda-a831-7663749ab0ef</td>\n",
       "      <td>Dennis Bergkamp</td>\n",
       "      <td>Arsenal</td>\n",
       "      <td>[103.9, 25.9]</td>\n",
       "      <td>Saved</td>\n",
       "    </tr>\n",
       "    <tr>\n",
       "      <td>beea89ff-10e4-474e-a635-1d6d6de55dc7</td>\n",
       "      <td>Jamie Redknapp</td>\n",
       "      <td>Tottenham Hotspur</td>\n",
       "      <td>[94.1, 29.5]</td>\n",
       "      <td>Saved</td>\n",
       "    </tr>\n",
       "    <tr>\n",
       "      <td>69c9745f-7bed-4410-ac2d-7cb1ff62dd3b</td>\n",
       "      <td>Mauricio Taricco</td>\n",
       "      <td>Tottenham Hotspur</td>\n",
       "      <td>[93.7, 23.1]</td>\n",
       "      <td>Off T</td>\n",
       "    </tr>\n",
       "    <tr>\n",
       "      <td>1e4bb53f-e865-4971-a135-d6458aadfbb4</td>\n",
       "      <td>Frédéric Oumar Kanouté</td>\n",
       "      <td>Tottenham Hotspur</td>\n",
       "      <td>[99.1, 45.7]</td>\n",
       "      <td>Off T</td>\n",
       "    </tr>\n",
       "    <tr>\n",
       "      <td>df38b5ec-4b1d-45a2-bdac-390515164272</td>\n",
       "      <td>Robert Pirès</td>\n",
       "      <td>Arsenal</td>\n",
       "      <td>[109.7, 32.9]</td>\n",
       "      <td>Goal</td>\n",
       "    </tr>\n",
       "    <tr>\n",
       "      <td>4fdd8aa7-4c2a-4e89-9118-64e07e054beb</td>\n",
       "      <td>Frédéric Oumar Kanouté</td>\n",
       "      <td>Tottenham Hotspur</td>\n",
       "      <td>[93.3, 33.1]</td>\n",
       "      <td>Saved</td>\n",
       "    </tr>\n",
       "    <tr>\n",
       "      <td>3d99dd62-aba3-44cb-b5e8-cde627bd95b2</td>\n",
       "      <td>Simon Davies</td>\n",
       "      <td>Tottenham Hotspur</td>\n",
       "      <td>[96.5, 37.8]</td>\n",
       "      <td>Off T</td>\n",
       "    </tr>\n",
       "    <tr>\n",
       "      <td>0c923b8d-f940-4e98-a5d6-1c824d8b276a</td>\n",
       "      <td>Thierry Henry</td>\n",
       "      <td>Arsenal</td>\n",
       "      <td>[98.4, 44.7]</td>\n",
       "      <td>Saved</td>\n",
       "    </tr>\n",
       "    <tr>\n",
       "      <td>46cf28f5-c996-4ca0-804e-abfc0fa283e3</td>\n",
       "      <td>Johnnie Jackson</td>\n",
       "      <td>Tottenham Hotspur</td>\n",
       "      <td>[91.0, 46.7]</td>\n",
       "      <td>Off T</td>\n",
       "    </tr>\n",
       "    <tr>\n",
       "      <td>517de178-1285-4070-b23f-111bfc004a9a</td>\n",
       "      <td>Frédéric Oumar Kanouté</td>\n",
       "      <td>Tottenham Hotspur</td>\n",
       "      <td>[91.7, 42.8]</td>\n",
       "      <td>Off T</td>\n",
       "    </tr>\n",
       "    <tr>\n",
       "      <td>f5fc2996-d411-4ca2-b317-20533eb63e9e</td>\n",
       "      <td>Thierry Henry</td>\n",
       "      <td>Arsenal</td>\n",
       "      <td>[95.7, 23.6]</td>\n",
       "      <td>Saved</td>\n",
       "    </tr>\n",
       "    <tr>\n",
       "      <td>c437e1e9-77e0-42d8-9141-7764c4f78cfc</td>\n",
       "      <td>Jamie Redknapp</td>\n",
       "      <td>Tottenham Hotspur</td>\n",
       "      <td>[93.0, 38.2]</td>\n",
       "      <td>Goal</td>\n",
       "    </tr>\n",
       "    <tr>\n",
       "      <td>ecc6fe1b-9bd7-45f9-a0d2-9a744226c0f9</td>\n",
       "      <td>Thierry Henry</td>\n",
       "      <td>Arsenal</td>\n",
       "      <td>[108.1, 46.8]</td>\n",
       "      <td>Off T</td>\n",
       "    </tr>\n",
       "    <tr>\n",
       "      <td>af6151f3-77f5-4cfb-982d-fd422deeaac7</td>\n",
       "      <td>Jamie Redknapp</td>\n",
       "      <td>Tottenham Hotspur</td>\n",
       "      <td>[93.6, 26.7]</td>\n",
       "      <td>Saved</td>\n",
       "    </tr>\n",
       "    <tr>\n",
       "      <td>f0f4e553-8210-4200-961b-935f46ac1865</td>\n",
       "      <td>Frédéric Oumar Kanouté</td>\n",
       "      <td>Tottenham Hotspur</td>\n",
       "      <td>[116.6, 24.9]</td>\n",
       "      <td>Saved</td>\n",
       "    </tr>\n",
       "    <tr>\n",
       "      <td>a515de61-9014-41f7-9c5b-6e96bf406afa</td>\n",
       "      <td>Robert Pirès</td>\n",
       "      <td>Arsenal</td>\n",
       "      <td>[107.4, 49.7]</td>\n",
       "      <td>Post</td>\n",
       "    </tr>\n",
       "    <tr>\n",
       "      <td>d462671d-f93e-4b19-9dd1-b0832d54cf37</td>\n",
       "      <td>Thierry Henry</td>\n",
       "      <td>Arsenal</td>\n",
       "      <td>[93.9, 27.7]</td>\n",
       "      <td>Blocked</td>\n",
       "    </tr>\n",
       "    <tr>\n",
       "      <td>dba8b474-3d08-48ee-a36d-318bdc915917</td>\n",
       "      <td>Jermain Defoe</td>\n",
       "      <td>Tottenham Hotspur</td>\n",
       "      <td>[111.0, 30.5]</td>\n",
       "      <td>Blocked</td>\n",
       "    </tr>\n",
       "    <tr>\n",
       "      <td>bed657b0-11fd-4ac5-b1aa-1c6923d8c5e2</td>\n",
       "      <td>Thierry Henry</td>\n",
       "      <td>Arsenal</td>\n",
       "      <td>[109.8, 31.2]</td>\n",
       "      <td>Blocked</td>\n",
       "    </tr>\n",
       "    <tr>\n",
       "      <td>9bd9a889-245b-4679-a448-289703e4cf42</td>\n",
       "      <td>Jermain Defoe</td>\n",
       "      <td>Tottenham Hotspur</td>\n",
       "      <td>[112.1, 30.8]</td>\n",
       "      <td>Wayward</td>\n",
       "    </tr>\n",
       "    <tr>\n",
       "      <td>90caee66-b0e8-46e2-ad3c-be0978ab94c7</td>\n",
       "      <td>Jermain Defoe</td>\n",
       "      <td>Tottenham Hotspur</td>\n",
       "      <td>[99.2, 25.7]</td>\n",
       "      <td>Saved</td>\n",
       "    </tr>\n",
       "    <tr>\n",
       "      <td>4d4c74a8-a9e1-4086-beb8-06161f34c060</td>\n",
       "      <td>Robbie Keane</td>\n",
       "      <td>Tottenham Hotspur</td>\n",
       "      <td>[108.0, 40.1]</td>\n",
       "      <td>Goal</td>\n",
       "    </tr>\n",
       "  </tbody>\n",
       "</table>\n",
       "</div>"
      ],
      "text/plain": [
       "                                                 player_name  \\\n",
       "id                                                             \n",
       "d5fa0f1f-ec1c-4e42-aa37-e7d4f826c25f          Patrick Vieira   \n",
       "7d9d8237-bbf6-4eda-a831-7663749ab0ef         Dennis Bergkamp   \n",
       "beea89ff-10e4-474e-a635-1d6d6de55dc7          Jamie Redknapp   \n",
       "69c9745f-7bed-4410-ac2d-7cb1ff62dd3b        Mauricio Taricco   \n",
       "1e4bb53f-e865-4971-a135-d6458aadfbb4  Frédéric Oumar Kanouté   \n",
       "df38b5ec-4b1d-45a2-bdac-390515164272           Robert Pirès    \n",
       "4fdd8aa7-4c2a-4e89-9118-64e07e054beb  Frédéric Oumar Kanouté   \n",
       "3d99dd62-aba3-44cb-b5e8-cde627bd95b2            Simon Davies   \n",
       "0c923b8d-f940-4e98-a5d6-1c824d8b276a           Thierry Henry   \n",
       "46cf28f5-c996-4ca0-804e-abfc0fa283e3         Johnnie Jackson   \n",
       "517de178-1285-4070-b23f-111bfc004a9a  Frédéric Oumar Kanouté   \n",
       "f5fc2996-d411-4ca2-b317-20533eb63e9e           Thierry Henry   \n",
       "c437e1e9-77e0-42d8-9141-7764c4f78cfc          Jamie Redknapp   \n",
       "ecc6fe1b-9bd7-45f9-a0d2-9a744226c0f9           Thierry Henry   \n",
       "af6151f3-77f5-4cfb-982d-fd422deeaac7          Jamie Redknapp   \n",
       "f0f4e553-8210-4200-961b-935f46ac1865  Frédéric Oumar Kanouté   \n",
       "a515de61-9014-41f7-9c5b-6e96bf406afa           Robert Pirès    \n",
       "d462671d-f93e-4b19-9dd1-b0832d54cf37           Thierry Henry   \n",
       "dba8b474-3d08-48ee-a36d-318bdc915917           Jermain Defoe   \n",
       "bed657b0-11fd-4ac5-b1aa-1c6923d8c5e2           Thierry Henry   \n",
       "9bd9a889-245b-4679-a448-289703e4cf42           Jermain Defoe   \n",
       "90caee66-b0e8-46e2-ad3c-be0978ab94c7           Jermain Defoe   \n",
       "4d4c74a8-a9e1-4086-beb8-06161f34c060            Robbie Keane   \n",
       "\n",
       "                                              team_name       location  \\\n",
       "id                                                                       \n",
       "d5fa0f1f-ec1c-4e42-aa37-e7d4f826c25f            Arsenal  [111.3, 39.7]   \n",
       "7d9d8237-bbf6-4eda-a831-7663749ab0ef            Arsenal  [103.9, 25.9]   \n",
       "beea89ff-10e4-474e-a635-1d6d6de55dc7  Tottenham Hotspur   [94.1, 29.5]   \n",
       "69c9745f-7bed-4410-ac2d-7cb1ff62dd3b  Tottenham Hotspur   [93.7, 23.1]   \n",
       "1e4bb53f-e865-4971-a135-d6458aadfbb4  Tottenham Hotspur   [99.1, 45.7]   \n",
       "df38b5ec-4b1d-45a2-bdac-390515164272            Arsenal  [109.7, 32.9]   \n",
       "4fdd8aa7-4c2a-4e89-9118-64e07e054beb  Tottenham Hotspur   [93.3, 33.1]   \n",
       "3d99dd62-aba3-44cb-b5e8-cde627bd95b2  Tottenham Hotspur   [96.5, 37.8]   \n",
       "0c923b8d-f940-4e98-a5d6-1c824d8b276a            Arsenal   [98.4, 44.7]   \n",
       "46cf28f5-c996-4ca0-804e-abfc0fa283e3  Tottenham Hotspur   [91.0, 46.7]   \n",
       "517de178-1285-4070-b23f-111bfc004a9a  Tottenham Hotspur   [91.7, 42.8]   \n",
       "f5fc2996-d411-4ca2-b317-20533eb63e9e            Arsenal   [95.7, 23.6]   \n",
       "c437e1e9-77e0-42d8-9141-7764c4f78cfc  Tottenham Hotspur   [93.0, 38.2]   \n",
       "ecc6fe1b-9bd7-45f9-a0d2-9a744226c0f9            Arsenal  [108.1, 46.8]   \n",
       "af6151f3-77f5-4cfb-982d-fd422deeaac7  Tottenham Hotspur   [93.6, 26.7]   \n",
       "f0f4e553-8210-4200-961b-935f46ac1865  Tottenham Hotspur  [116.6, 24.9]   \n",
       "a515de61-9014-41f7-9c5b-6e96bf406afa            Arsenal  [107.4, 49.7]   \n",
       "d462671d-f93e-4b19-9dd1-b0832d54cf37            Arsenal   [93.9, 27.7]   \n",
       "dba8b474-3d08-48ee-a36d-318bdc915917  Tottenham Hotspur  [111.0, 30.5]   \n",
       "bed657b0-11fd-4ac5-b1aa-1c6923d8c5e2            Arsenal  [109.8, 31.2]   \n",
       "9bd9a889-245b-4679-a448-289703e4cf42  Tottenham Hotspur  [112.1, 30.8]   \n",
       "90caee66-b0e8-46e2-ad3c-be0978ab94c7  Tottenham Hotspur   [99.2, 25.7]   \n",
       "4d4c74a8-a9e1-4086-beb8-06161f34c060  Tottenham Hotspur  [108.0, 40.1]   \n",
       "\n",
       "                                     shot_outcome_name  \n",
       "id                                                      \n",
       "d5fa0f1f-ec1c-4e42-aa37-e7d4f826c25f              Goal  \n",
       "7d9d8237-bbf6-4eda-a831-7663749ab0ef             Saved  \n",
       "beea89ff-10e4-474e-a635-1d6d6de55dc7             Saved  \n",
       "69c9745f-7bed-4410-ac2d-7cb1ff62dd3b             Off T  \n",
       "1e4bb53f-e865-4971-a135-d6458aadfbb4             Off T  \n",
       "df38b5ec-4b1d-45a2-bdac-390515164272              Goal  \n",
       "4fdd8aa7-4c2a-4e89-9118-64e07e054beb             Saved  \n",
       "3d99dd62-aba3-44cb-b5e8-cde627bd95b2             Off T  \n",
       "0c923b8d-f940-4e98-a5d6-1c824d8b276a             Saved  \n",
       "46cf28f5-c996-4ca0-804e-abfc0fa283e3             Off T  \n",
       "517de178-1285-4070-b23f-111bfc004a9a             Off T  \n",
       "f5fc2996-d411-4ca2-b317-20533eb63e9e             Saved  \n",
       "c437e1e9-77e0-42d8-9141-7764c4f78cfc              Goal  \n",
       "ecc6fe1b-9bd7-45f9-a0d2-9a744226c0f9             Off T  \n",
       "af6151f3-77f5-4cfb-982d-fd422deeaac7             Saved  \n",
       "f0f4e553-8210-4200-961b-935f46ac1865             Saved  \n",
       "a515de61-9014-41f7-9c5b-6e96bf406afa              Post  \n",
       "d462671d-f93e-4b19-9dd1-b0832d54cf37           Blocked  \n",
       "dba8b474-3d08-48ee-a36d-318bdc915917           Blocked  \n",
       "bed657b0-11fd-4ac5-b1aa-1c6923d8c5e2           Blocked  \n",
       "9bd9a889-245b-4679-a448-289703e4cf42           Wayward  \n",
       "90caee66-b0e8-46e2-ad3c-be0978ab94c7             Saved  \n",
       "4d4c74a8-a9e1-4086-beb8-06161f34c060              Goal  "
      ]
     },
     "execution_count": 21,
     "metadata": {},
     "output_type": "execute_result"
    }
   ],
   "source": [
    "shots[['player_name','team_name', 'location', 'shot_outcome_name']].head(25)"
   ]
  },
  {
   "cell_type": "code",
   "execution_count": 46,
   "metadata": {},
   "outputs": [
    {
     "data": {
      "image/png": "[encoded data removed]",
      "text/plain": [
       "<Figure size 864x576 with 1 Axes>"
      ]
     },
     "metadata": {
      "needs_background": "light"
     },
     "output_type": "display_data"
    }
   ],
   "source": [
    "#Size of the pitch in yards\n",
    "pitchLengthX=120\n",
    "pitchWidthY=80\n",
    "\n",
    "#Drawing the pitch\n",
    "(fig,ax) = createPitch(pitchLengthX, pitchWidthY, 'yards', 'gray')\n",
    "\n",
    "home_team_required = 'Tottenham Hotspur'\n",
    "away_team_required = 'Arsenal'\n",
    "\n",
    "#Plot the shots\n",
    "for i,shot in shots.iterrows():\n",
    "    x=shot['location'][0]\n",
    "    y=shot['location'][1]\n",
    "    \n",
    "    goal=shot['shot_outcome_name']=='Goal'\n",
    "    team_name=shot['team_name']\n",
    "    \n",
    "    circleSize=2\n",
    "    circleSize=np.sqrt(shot['shot_statsbomb_xg']*15)\n",
    "\n",
    "    if (team_name==home_team_required):\n",
    "        if goal:\n",
    "            shotCircle=plt.Circle((x,pitchWidthY-y),circleSize,color=\"red\")\n",
    "            plt.text((x+1),pitchWidthY-y+1,shot['player_name']) \n",
    "        else:\n",
    "            shotCircle=plt.Circle((x,pitchWidthY-y),circleSize,color=\"red\")     \n",
    "            shotCircle.set_alpha(.2)\n",
    "    elif (team_name==away_team_required):\n",
    "        if goal:\n",
    "            shotCircle=plt.Circle((pitchLengthX-x,y),circleSize,color=\"blue\") \n",
    "            plt.text((pitchLengthX-x+1),y+1,shot['player_name']) \n",
    "        else:\n",
    "            shotCircle=plt.Circle((pitchLengthX-x,y),circleSize,color=\"blue\")      \n",
    "            shotCircle.set_alpha(.2)\n",
    "    ax.add_patch(shotCircle)\n",
    "    \n",
    "\n",
    "away_shots_total = str(shots[shots['team_name'] == away_team_required].copy().shape[0])\n",
    "home_shots_total = str(shots[shots['team_name'] == home_team_required].copy().shape[0])\n",
    "    \n",
    "plt.text(5,75,away_team_required + ' ' + away_shots_total + ' shots') \n",
    "plt.text(80,75,home_team_required + ' ' + home_shots_total + ' shots') \n",
    "     \n",
    "fig.set_size_inches(12, 8)\n",
    "fig.savefig('shots08.png', dpi=100) \n",
    "plt.show()"
   ]
  },
  {
   "cell_type": "markdown",
   "metadata": {},
   "source": [
    "## Plotting only passes made by a specific player"
   ]
  },
  {
   "cell_type": "code",
   "execution_count": 45,
   "metadata": {},
   "outputs": [
    {
     "data": {
      "image/png": "[encoded data removed]",
      "text/plain": [
       "<Figure size 864x576 with 1 Axes>"
      ]
     },
     "metadata": {
      "needs_background": "light"
     },
     "output_type": "display_data"
    }
   ],
   "source": [
    "passes = df_events[df_events[\"type_name\"] == 'Pass'].copy().set_index('id')\n",
    "\n",
    "\n",
    "#Size of the pitch in yards\n",
    "pitchLengthX=120\n",
    "pitchWidthY=80\n",
    "\n",
    "#Draw the pitch\n",
    "(fig,ax) = createPitch(pitchLengthX, pitchWidthY, 'yards', 'gray')\n",
    "\n",
    "for i, thepass in passes.iterrows():\n",
    "    if thepass['player_name'] == 'Dennis Bergkamp':\n",
    "        x = thepass['location'][0]\n",
    "        y = thepass['location'][1]\n",
    "        passCircle=plt.Circle((x, pitchWidthY-y), 2, color = 'blue')\n",
    "        passCircle.set_alpha(.2)\n",
    "        ax.add_patch(passCircle)\n",
    "        dx=thepass['pass_end_location'][0] - x\n",
    "        dy=thepass['pass_end_location'][1] - y\n",
    "        passArrow = plt.Arrow(x, pitchWidthY-y, dx, dy, width = 3, color = 'blue')\n",
    "        ax.add_patch(passArrow)\n",
    "\n",
    "fig.set_size_inches(12,8)\n",
    "fig.savefig('passes.png', dpi=100)\n",
    "plt.show()"
   ]
  }
 ],
 "metadata": {
  "kernelspec": {
   "display_name": "Python 3",
   "language": "python",
   "name": "python3"
  },
  "language_info": {
   "codemirror_mode": {
    "name": "ipython",
    "version": 3
   },
   "file_extension": ".py",
   "mimetype": "text/x-python",
   "name": "python",
   "nbconvert_exporter": "python",
   "pygments_lexer": "ipython3",
   "version": "3.7.4"
  }
 },
 "nbformat": 4,
 "nbformat_minor": 2
}
